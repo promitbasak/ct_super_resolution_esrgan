{
 "cells": [
  {
   "cell_type": "code",
   "execution_count": 1,
   "id": "a3860fe9",
   "metadata": {},
   "outputs": [],
   "source": [
    "from dataset import create_dataloader"
   ]
  },
  {
   "cell_type": "code",
   "execution_count": null,
   "id": "5ebb3619",
   "metadata": {},
   "outputs": [],
   "source": [
    "# git clone https://github.com/xinntao/Real-ESRGAN\n",
    "# cd Real-ESRGAN\n",
    "# pip install -r requirements.txt\n",
    "# python setup.py install\n"
   ]
  },
  {
   "cell_type": "code",
   "execution_count": null,
   "id": "d6362876",
   "metadata": {},
   "outputs": [],
   "source": [
    "# Path to the preprocessed dataset\n",
    "data_dir = \"processed_dataset\"  # Change this path to where the processed data is saved\n",
    "\n",
    "# Create dataloaders\n",
    "train_loader = create_dataloader(data_dir=data_dir, batch_size=8, shuffle=True)\n",
    "valid_loader = create_dataloader(data_dir=data_dir, batch_size=8, shuffle=False)\n",
    "\n",
    "# Example: Check one batch\n",
    "for batch in train_loader:\n",
    "    print(batch.shape)  # Expected: [batch_size, slice_depth, height, width]\n",
    "    break"
   ]
  },
  {
   "cell_type": "code",
   "execution_count": null,
   "id": "f91764c3",
   "metadata": {},
   "outputs": [],
   "source": [
    "from realesrgan import RealESRGAN\n",
    "\n",
    "# Set device (GPU or CPU)\n",
    "device = torch.device(\"cuda\" if torch.cuda.is_available() else \"cpu\")\n",
    "\n",
    "# Load a pretrained Real-ESRGAN model (You can also train from scratch if you want)\n",
    "model = RealESRGAN(device, scale=4)\n",
    "model.load_weights('weights/RealESRGAN_x4.pth')  # Specify the path to the pretrained weights\n",
    "model.to(device)\n"
   ]
  },
  {
   "cell_type": "code",
   "execution_count": null,
   "id": "124867ef",
   "metadata": {},
   "outputs": [],
   "source": [
    "import torch.optim as optim\n",
    "\n",
    "# Loss function for training (Real-ESRGAN uses a combination of adversarial loss and pixel-wise loss)\n",
    "criterion = torch.nn.MSELoss()  # Or any custom loss function like perceptual loss\n",
    "\n",
    "# Optimizer (Adam)\n",
    "optimizer = optim.Adam(model.parameters(), lr=1e-4)\n"
   ]
  },
  {
   "cell_type": "code",
   "execution_count": null,
   "id": "0583b38a",
   "metadata": {},
   "outputs": [],
   "source": [
    "# Example training loop\n",
    "num_epochs = 10\n",
    "for epoch in range(num_epochs):\n",
    "    model.train()\n",
    "    epoch_loss = 0\n",
    "\n",
    "    for batch_idx, lr_images in enumerate(train_loader):\n",
    "        lr_images = lr_images.to(device)  # Move data to GPU if available\n",
    "        hr_images = resize(lr_images, (512, 512))  # Resize HR to 512x512 for training\n",
    "\n",
    "        # Forward pass\n",
    "        sr_images = model(lr_images)  # Super-Resolution output\n",
    "\n",
    "        # Calculate loss\n",
    "        loss = criterion(sr_images, hr_images)\n",
    "        epoch_loss += loss.item()\n",
    "\n",
    "        # Backward pass and optimization\n",
    "        optimizer.zero_grad()\n",
    "        loss.backward()\n",
    "        optimizer.step()\n",
    "\n",
    "    print(f\"Epoch [{epoch+1}/{num_epochs}], Loss: {epoch_loss/len(train_loader)}\")\n"
   ]
  },
  {
   "cell_type": "code",
   "execution_count": null,
   "id": "3cc5e5bc",
   "metadata": {},
   "outputs": [],
   "source": [
    "# Model evaluation (inference)\n",
    "model.eval()  # Set to evaluation mode\n",
    "\n",
    "# Example prediction for a single image\n",
    "test_image = torch.load('path_to_test_image.pt').to(device)  # Replace with actual image loading\n",
    "with torch.no_grad():\n",
    "    sr_image = model(test_image)\n",
    "\n",
    "# Save the output image after super-resolution\n",
    "sr_image = sr_image.cpu().numpy().squeeze()  # Convert to numpy for saving or visualization\n"
   ]
  },
  {
   "cell_type": "code",
   "execution_count": null,
   "id": "3dc14a8a",
   "metadata": {},
   "outputs": [],
   "source": [
    "import matplotlib.pyplot as plt\n",
    "\n",
    "plt.imshow(sr_image[0], cmap='gray')  # Show the super-resolved image\n",
    "plt.savefig('output_sr_image.png')  # Save the output image\n"
   ]
  },
  {
   "cell_type": "code",
   "execution_count": null,
   "id": "9373b21b",
   "metadata": {},
   "outputs": [],
   "source": [
    "import torch\n",
    "from torch.utils.data import DataLoader\n",
    "import torch.optim as optim\n",
    "from realesrgan import RealESRGAN\n",
    "from torchvision import transforms\n",
    "\n",
    "# Load model and weights\n",
    "device = torch.device(\"cuda\" if torch.cuda.is_available() else \"cpu\")\n",
    "model = RealESRGAN(device, scale=4)\n",
    "model.load_weights('weights/RealESRGAN_x4.pth')\n",
    "model.to(device)\n",
    "\n",
    "# Dataset and DataLoader (assumes preprocessed data is ready)\n",
    "train_loader = create_dataloader(data_dir=\"processed_dataset\", batch_size=8, shuffle=True)\n",
    "\n",
    "# Optimizer and loss function\n",
    "optimizer = optim.Adam(model.parameters(), lr=1e-4)\n",
    "criterion = torch.nn.MSELoss()\n",
    "\n",
    "# Training loop\n",
    "num_epochs = 10\n",
    "for epoch in range(num_epochs):\n",
    "    model.train()\n",
    "    epoch_loss = 0\n",
    "\n",
    "    for batch_idx, lr_images in enumerate(train_loader):\n",
    "        lr_images = lr_images.to(device)\n",
    "        hr_images = resize(lr_images, (512, 512))  # Resize HR\n",
    "\n",
    "        # Forward pass\n",
    "        sr_images = model(lr_images)\n",
    "\n",
    "        # Compute loss\n",
    "        loss = criterion(sr_images, hr_images)\n",
    "        epoch_loss += loss.item()\n",
    "\n",
    "        # Backpropagation\n",
    "        optimizer.zero_grad()\n",
    "        loss.backward()\n",
    "        optimizer.step()\n",
    "\n",
    "    print(f\"Epoch [{epoch+1}/{num_epochs}], Loss: {epoch_loss/len(train_loader)}\")\n",
    "\n",
    "# Evaluate or predict using the model\n",
    "model.eval()\n",
    "with torch.no_grad():\n",
    "    test_image = torch.load('path_to_test_image.pt').to(device)\n",
    "    sr_image = model(test_image)\n",
    "\n",
    "# Save and display the super-resolved image\n",
    "sr_image = sr_image.cpu().numpy().squeeze()\n",
    "plt.imshow(sr_image[0], cmap='gray')\n",
    "plt.savefig('output_sr_image.png')\n"
   ]
  }
 ],
 "metadata": {
  "kernelspec": {
   "display_name": "venv",
   "language": "python",
   "name": "python3"
  },
  "language_info": {
   "codemirror_mode": {
    "name": "ipython",
    "version": 3
   },
   "file_extension": ".py",
   "mimetype": "text/x-python",
   "name": "python",
   "nbconvert_exporter": "python",
   "pygments_lexer": "ipython3",
   "version": "3.12.7"
  }
 },
 "nbformat": 4,
 "nbformat_minor": 5
}
