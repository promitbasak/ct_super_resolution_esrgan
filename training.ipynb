{
 "cells": [
  {
   "cell_type": "code",
   "execution_count": 6,
   "id": "a3860fe9",
   "metadata": {},
   "outputs": [],
   "source": [
    "import torch\n",
    "from torch import nn\n",
    "from torch.optim import Adam\n",
    "from realesrgan import RealESRGANer\n",
    "from dataset import create_dataloader\n",
    "\n"
   ]
  },
  {
   "cell_type": "code",
   "execution_count": null,
   "id": "5ebb3619",
   "metadata": {},
   "outputs": [],
   "source": [
    "# git clone https://github.com/xinntao/Real-ESRGAN\n",
    "# cd Real-ESRGAN\n",
    "# pip install -r requirements.txt\n",
    "# python setup.py install\n"
   ]
  },
  {
   "cell_type": "code",
   "execution_count": null,
   "id": "d6362876",
   "metadata": {},
   "outputs": [],
   "source": [
    "# Path to the preprocessed dataset\n",
    "data_dir = \"processed_dataset\"  # Change this path to where the processed data is saved\n",
    "\n",
    "# Create dataloaders\n",
    "train_loader = create_dataloader(data_dir=data_dir, batch_size=8, shuffle=True)\n",
    "valid_loader = create_dataloader(data_dir=data_dir, batch_size=8, shuffle=False)\n",
    "\n",
    "# Example: Check one batch\n",
    "for batch in train_loader:\n",
    "    print(batch.shape)  # Expected: [batch_size, slice_depth, height, width]\n",
    "    break"
   ]
  },
  {
   "cell_type": "code",
   "execution_count": 7,
   "id": "f91764c3",
   "metadata": {},
   "outputs": [
    {
     "ename": "TypeError",
     "evalue": "RealESRGANer.__init__() got multiple values for argument 'scale'",
     "output_type": "error",
     "traceback": [
      "\u001b[31m---------------------------------------------------------------------------\u001b[39m",
      "\u001b[31mTypeError\u001b[39m                                 Traceback (most recent call last)",
      "\u001b[36mCell\u001b[39m\u001b[36m \u001b[39m\u001b[32mIn[7]\u001b[39m\u001b[32m, line 5\u001b[39m\n\u001b[32m      2\u001b[39m device = torch.device(\u001b[33m\"\u001b[39m\u001b[33mcuda\u001b[39m\u001b[33m\"\u001b[39m \u001b[38;5;28;01mif\u001b[39;00m torch.cuda.is_available() \u001b[38;5;28;01melse\u001b[39;00m \u001b[33m\"\u001b[39m\u001b[33mcpu\u001b[39m\u001b[33m\"\u001b[39m)\n\u001b[32m      4\u001b[39m \u001b[38;5;66;03m# Load a pretrained Real-ESRGAN model (You can also train from scratch if you want)\u001b[39;00m\n\u001b[32m----> \u001b[39m\u001b[32m5\u001b[39m model = \u001b[43mRealESRGANer\u001b[49m\u001b[43m(\u001b[49m\u001b[43mdevice\u001b[49m\u001b[43m,\u001b[49m\u001b[43m \u001b[49m\u001b[43mscale\u001b[49m\u001b[43m=\u001b[49m\u001b[32;43m4\u001b[39;49m\u001b[43m)\u001b[49m\n\u001b[32m      6\u001b[39m \u001b[38;5;66;03m# model.load_weights('weights/RealESRGAN_x4.pth')  # Specify the path to the pretrained weights\u001b[39;00m\n\u001b[32m      7\u001b[39m model.to(device)\n",
      "\u001b[31mTypeError\u001b[39m: RealESRGANer.__init__() got multiple values for argument 'scale'"
     ]
    }
   ],
   "source": [
    "\n",
    "# Set device (GPU or CPU)\n",
    "device = torch.device(\"cuda\" if torch.cuda.is_available() else \"cpu\")\n",
    "\n",
    "# Load a pretrained Real-ESRGAN model (You can also train from scratch if you want)\n",
    "model = RealESRGANer(device, scale=4)\n",
    "# model.load_weights('weights/RealESRGAN_x4.pth')  # Specify the path to the pretrained weights\n",
    "model.to(device)\n"
   ]
  },
  {
   "cell_type": "code",
   "execution_count": null,
   "id": "ff6e343a",
   "metadata": {},
   "outputs": [],
   "source": [
    "def train_real_esrgan(model, dataloader, device, num_epochs=10, learning_rate=1e-4):\n",
    "    \"\"\"\n",
    "    Train the Real-ESRGAN model with the provided DataLoader.\n",
    "    \n",
    "    Args:\n",
    "        model (nn.Module): The Real-ESRGAN model.\n",
    "        dataloader (DataLoader): The data loader.\n",
    "        device (str): Device to run the training on ('cuda' or 'cpu').\n",
    "        num_epochs (int): Number of training epochs.\n",
    "        learning_rate (float): Learning rate for the optimizer.\n",
    "    \"\"\"\n",
    "    \n",
    "    # Setup the optimizer and loss function\n",
    "    optimizer = Adam(model.parameters(), lr=learning_rate)\n",
    "    criterion = nn.L1Loss()  # Use L1 loss (Mean Absolute Error) or MSELoss\n",
    "\n",
    "    # Train the model\n",
    "    model.train()  # Set the model to training mode\n",
    "\n",
    "    for epoch in range(num_epochs):\n",
    "        epoch_loss = 0.0\n",
    "        for lr_patches, hr_patches in dataloader:\n",
    "            lr_patches = lr_patches[0].to(device)  # Take the first patch from the batch\n",
    "            hr_patches = hr_patches[0].to(device)  # Take the first patch from the batch\n",
    "            \n",
    "            # Zero gradients\n",
    "            optimizer.zero_grad()\n",
    "\n",
    "            for lr_patch, hr_patch in zip(lr_patches, hr_patches):\n",
    "                # Forward pass for a single patch\n",
    "                sr_patch = model(lr_patch.unsqueeze(0))  # Add batch dimension for the model\n",
    "\n",
    "                # Compute the loss (L1 Loss)\n",
    "                loss = criterion(sr_patch, hr_patch.unsqueeze(0))  # Compare SR output with HR patch\n",
    "                epoch_loss += loss.item()\n",
    "\n",
    "                # Backpropagation\n",
    "                loss.backward()\n",
    "                optimizer.step()\n",
    "\n",
    "        print(f\"Epoch [{epoch+1}/{num_epochs}], Loss: {epoch_loss/len(dataloader)}\")\n",
    "\n",
    "        # Save model checkpoint every few epochs (optional)\n",
    "        if (epoch + 1) % 5 == 0:\n",
    "            torch.save(model.state_dict(), f\"real_esrgan_epoch_{epoch+1}.pth\")\n",
    "\n",
    "# Load your dataset (replace with actual paths)\n",
    "root_dir = \"dataset/train\"  # Path to your dataset\n",
    "metadata_csv = \"train_metadata.csv\"  # Path to the metadata CSV\n",
    "dataloader = create_dataloader(root_dir, metadata_csv, batch_size=8, shuffle=True, num_workers=4)\n",
    "\n",
    "# Initialize the Real-ESRGAN model\n",
    "device = torch.device(\"cuda\" if torch.cuda.is_available() else \"cpu\")\n",
    "model = RealESRGAN(device, scale=4)  # 4x upscale, adjust based on your needs\n",
    "model.to(device)\n",
    "\n",
    "# Train the Real-ESRGAN model\n",
    "train_real_esrgan(model, dataloader, device, num_epochs=10, learning_rate=1e-4)\n"
   ]
  },
  {
   "cell_type": "code",
   "execution_count": null,
   "id": "3cc5e5bc",
   "metadata": {},
   "outputs": [],
   "source": [
    "# Model evaluation (inference)\n",
    "model.eval()  # Set to evaluation mode\n",
    "\n",
    "# Example prediction for a single image\n",
    "test_image = torch.load('path_to_test_image.pt').to(device)  # Replace with actual image loading\n",
    "with torch.no_grad():\n",
    "    sr_image = model(test_image)\n",
    "\n",
    "# Save the output image after super-resolution\n",
    "sr_image = sr_image.cpu().numpy().squeeze()  # Convert to numpy for saving or visualization\n"
   ]
  },
  {
   "cell_type": "code",
   "execution_count": null,
   "id": "3dc14a8a",
   "metadata": {},
   "outputs": [],
   "source": [
    "import matplotlib.pyplot as plt\n",
    "\n",
    "plt.imshow(sr_image[0], cmap='gray')  # Show the super-resolved image\n",
    "plt.savefig('output_sr_image.png')  # Save the output image\n"
   ]
  }
 ],
 "metadata": {
  "kernelspec": {
   "display_name": "venv",
   "language": "python",
   "name": "python3"
  },
  "language_info": {
   "codemirror_mode": {
    "name": "ipython",
    "version": 3
   },
   "file_extension": ".py",
   "mimetype": "text/x-python",
   "name": "python",
   "nbconvert_exporter": "python",
   "pygments_lexer": "ipython3",
   "version": "3.12.7"
  }
 },
 "nbformat": 4,
 "nbformat_minor": 5
}
