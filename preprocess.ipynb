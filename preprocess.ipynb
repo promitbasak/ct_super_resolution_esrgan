{
 "cells": [
  {
   "cell_type": "code",
   "execution_count": null,
   "id": "74823ebb",
   "metadata": {},
   "outputs": [],
   "source": [
    "import os\n",
    "from pathlib import Path\n",
    "\n",
    "import nibabel as nib\n",
    "import numpy as np\n",
    "from skimage.transform import resize\n",
    "import torch\n",
    "from torchvision.utils import save_image\n",
    "import yaml\n",
    "from utils import get_affine_from_metadata, get_metadata_for_volume, convert_to_hu, resample_volume, crop_or_pad, preprocess_ct_volume, batch_preprocess_ct_rate"
   ]
  },
  {
   "cell_type": "markdown",
   "id": "bcce4c95",
   "metadata": {},
   "source": [
    "# Functions\n"
   ]
  },
  {
   "cell_type": "code",
   "execution_count": null,
   "id": "9e9ad8c7",
   "metadata": {},
   "outputs": [],
   "source": [
    "def load_nii_and_normalize(path):\n",
    "    img = nib.load(path).get_fdata()\n",
    "    img = np.clip(img, -1000, 1000)  # Clip Hounsfield units\n",
    "    img = (img + 1000) / 2000        # Normalize to 0–1\n",
    "    return img\n"
   ]
  },
  {
   "cell_type": "code",
   "execution_count": null,
   "id": "275c4422",
   "metadata": {},
   "outputs": [],
   "source": [
    "def extract_patches(volume, depth=5, drop=2, size=128):\n",
    "    slices = volume.shape[2]\n",
    "    outputs = []\n",
    "    idx = 0\n",
    "    while idx + depth <= slices:\n",
    "        chunk = volume[:, :, idx:idx+depth]  # Shape: H x W x depth\n",
    "        chunk = np.transpose(chunk, (2, 0, 1))  # Shape: depth x H x W\n",
    "        chunk = resize(chunk, (depth, size, size), mode=\"constant\")\n",
    "        outputs.append(torch.tensor(chunk, dtype=torch.float32))\n",
    "        idx += depth + drop\n",
    "    return outputs\n"
   ]
  },
  {
   "cell_type": "code",
   "execution_count": null,
   "id": "67545d4b",
   "metadata": {},
   "outputs": [],
   "source": [
    "def preprocess_dataset(root_dir, output_dir, slice_depth, slice_drop, input_size, save_as_image=False):\n",
    "    os.makedirs(output_dir, exist_ok=True)\n",
    "    for split in [\"train\", \"valid\"]:\n",
    "        split_path = Path(root_dir) / split\n",
    "        for case in split_path.glob(\"*/*.nii.gz\"):\n",
    "            vol = load_nii_and_normalize(str(case))\n",
    "            patches = extract_patches(vol, slice_depth, slice_drop, input_size)\n",
    "\n",
    "            case_name = case.stem\n",
    "            out_path = Path(output_dir) / split / case_name\n",
    "            out_path.mkdir(parents=True, exist_ok=True)\n",
    "\n",
    "            for i, patch in enumerate(patches):\n",
    "                if save_as_image:\n",
    "                    save_image(patch, open(out_path / f\"{case_name}_patch_{i}.png\", \"wb\"))\n",
    "                else:\n",
    "                    torch.save(patch, out_path / f\"{case_name}_patch_{i}.pt\")\n"
   ]
  },
  {
   "cell_type": "markdown",
   "id": "9bc28482",
   "metadata": {},
   "source": [
    "# Process\n"
   ]
  },
  {
   "cell_type": "code",
   "execution_count": null,
   "id": "4656bbd9",
   "metadata": {},
   "outputs": [],
   "source": [
    "batch_preprocess_ct_rate(\n",
    "    input_root=r\"D:\\Work\\QUMLG\\text_guided_3D_generation\\CT_RATE\\dataset\",\n",
    "    output_root=r\"D:\\Work\\QUMLG\\text_guided_3D_generation\\CT_RATE\\reconstructed\",\n",
    "    metadata_csv=r\"D:\\Work\\QUMLG\\text_guided_3D_generation\\CT_RATE\\dataset\\train_metadata.csv\",\n",
    "    target_spacing=(0.75, 0.75, 1.5),  \n",
    "    target_shape=(512, 512, -1),\n",
    "    hu_range=(-1000, 1000),\n",
    "    resample_order=1,  \n",
    "    save_nifti=True,\n",
    "    save_slices=False,\n",
    "    slice_axis=2,\n",
    "    slice_format=\"png\",\n",
    ")"
   ]
  }
 ],
 "metadata": {
  "kernelspec": {
   "display_name": "venv",
   "language": "python",
   "name": "python3"
  },
  "language_info": {
   "codemirror_mode": {
    "name": "ipython",
    "version": 3
   },
   "file_extension": ".py",
   "mimetype": "text/x-python",
   "name": "python",
   "nbconvert_exporter": "python",
   "pygments_lexer": "ipython3",
   "version": "3.12.10"
  }
 },
 "nbformat": 4,
 "nbformat_minor": 5
}
