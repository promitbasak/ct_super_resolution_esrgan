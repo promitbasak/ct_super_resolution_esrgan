{
 "cells": [
  {
   "cell_type": "code",
   "execution_count": 1,
   "id": "74823ebb",
   "metadata": {},
   "outputs": [],
   "source": [
    "import os\n",
    "from pathlib import Path\n",
    "\n",
    "import nibabel as nib\n",
    "import numpy as np\n",
    "from skimage.transform import resize\n",
    "import torch\n",
    "from torchvision.utils import save_image\n",
    "import yaml\n",
    "from utils import get_affine_from_metadata, get_metadata_for_volume, convert_to_hu, resample_volume, crop_or_pad, preprocess_ct_volume, batch_preprocess_ct_rate"
   ]
  },
  {
   "cell_type": "markdown",
   "id": "bcce4c95",
   "metadata": {},
   "source": [
    "# Functions\n"
   ]
  },
  {
   "cell_type": "code",
   "execution_count": 2,
   "id": "9e9ad8c7",
   "metadata": {},
   "outputs": [],
   "source": [
    "def load_nii_and_normalize(path):\n",
    "    img = nib.load(path).get_fdata()\n",
    "    img = np.clip(img, -1000, 1000)  # Clip Hounsfield units\n",
    "    img = (img + 1000) / 2000        # Normalize to 0–1\n",
    "    return img\n"
   ]
  },
  {
   "cell_type": "code",
   "execution_count": 3,
   "id": "275c4422",
   "metadata": {},
   "outputs": [],
   "source": [
    "def extract_patches(volume, depth=5, drop=2, size=128):\n",
    "    slices = volume.shape[2]\n",
    "    outputs = []\n",
    "    idx = 0\n",
    "    while idx + depth <= slices:\n",
    "        chunk = volume[:, :, idx:idx+depth]  # Shape: H x W x depth\n",
    "        chunk = np.transpose(chunk, (2, 0, 1))  # Shape: depth x H x W\n",
    "        chunk = resize(chunk, (depth, size, size), mode=\"constant\")\n",
    "        outputs.append(torch.tensor(chunk, dtype=torch.float32))\n",
    "        idx += depth + drop\n",
    "    return outputs\n"
   ]
  },
  {
   "cell_type": "code",
   "execution_count": 4,
   "id": "67545d4b",
   "metadata": {},
   "outputs": [],
   "source": [
    "def preprocess_dataset(root_dir, output_dir, slice_depth, slice_drop, input_size, save_as_image=False):\n",
    "    os.makedirs(output_dir, exist_ok=True)\n",
    "    for split in [\"train\", \"valid\"]:\n",
    "        split_path = Path(root_dir) / split\n",
    "        for case in split_path.glob(\"*/*.nii.gz\"):\n",
    "            vol = load_nii_and_normalize(str(case))\n",
    "            patches = extract_patches(vol, slice_depth, slice_drop, input_size)\n",
    "\n",
    "            case_name = case.stem\n",
    "            out_path = Path(output_dir) / split / case_name\n",
    "            out_path.mkdir(parents=True, exist_ok=True)\n",
    "\n",
    "            for i, patch in enumerate(patches):\n",
    "                if save_as_image:\n",
    "                    save_image(patch, open(out_path / f\"{case_name}_patch_{i}.png\", \"wb\"))\n",
    "                else:\n",
    "                    torch.save(patch, out_path / f\"{case_name}_patch_{i}.pt\")\n"
   ]
  },
  {
   "cell_type": "markdown",
   "id": "9bc28482",
   "metadata": {},
   "source": [
    "# Process\n"
   ]
  },
  {
   "cell_type": "code",
   "execution_count": null,
   "id": "4656bbd9",
   "metadata": {},
   "outputs": [],
   "source": [
    "batch_preprocess_ct_rate(\n",
    "    input_root=r\"D:\\Work\\QUMLG\\text_guided_3D_generation\\CT_RATE\\dataset\",\n",
    "    output_root=r\"D:\\Work\\QUMLG\\text_guided_3D_generation\\CT_RATE\\reconstructed\",\n",
    "    metadata_csv=r\"D:\\Work\\QUMLG\\text_guided_3D_generation\\CT_RATE\\dataset\\train_metadata.csv\",\n",
    "    target_spacing=(0.75, 0.75, 1.5),  \n",
    "    target_shape=(512, 512, -1),\n",
    "    hu_range=(-1000, 1000),\n",
    "    resample_order=1,  \n",
    "    save_nifti=True,\n",
    "    save_slices=False,\n",
    "    slice_axis=2,\n",
    "    slice_format=\"png\",\n",
    ")"
   ]
  },
  {
   "cell_type": "markdown",
   "id": "66e5c601",
   "metadata": {},
   "source": [
    "# Demo test"
   ]
  },
  {
   "cell_type": "code",
   "execution_count": 2,
   "id": "64f4d10e",
   "metadata": {},
   "outputs": [],
   "source": [
    "from ct_dataset_esrgan import CTRateDatasetBase, RealESRGANCustomCTDataset\n",
    "import pandas as pd\n"
   ]
  },
  {
   "cell_type": "code",
   "execution_count": 3,
   "id": "ba0cfb19",
   "metadata": {},
   "outputs": [],
   "source": [
    "opt = yaml.load(open(\"finetune_realesrgan_x4plus_ct.yml\"), Loader=yaml.CLoader)"
   ]
  },
  {
   "cell_type": "code",
   "execution_count": 4,
   "id": "8f3827a7",
   "metadata": {},
   "outputs": [],
   "source": [
    "opt[\"datasets\"][\"train\"][\"dataroot_gt\"] = \"/home/promit/Promit/text_guided_3d_generation/CT_RATE/dataset/train\"\n",
    "opt[\"datasets\"][\"train\"][\"metadata_csv\"] = \"/home/promit/Promit/text_guided_3d_generation/CT_RATE/dataset/train_metadata.csv\"\n",
    "\n",
    "opt[\"datasets\"][\"val\"][\"dataroot_gt\"] = \"/home/promit/Promit/text_guided_3d_generation/CT_RATE/dataset/valid\"\n",
    "opt[\"datasets\"][\"val\"][\"metadata_csv\"] = \"/home/promit/Promit/text_guided_3d_generation/CT_RATE/dataset/validation_metadata.csv\"\n",
    "\n",
    "# opt[\"datasets\"][\"train\"][\"depth\"] = 1\n",
    "# opt[\"datasets\"][\"val\"][\"depth\"] = 1\n"
   ]
  },
  {
   "cell_type": "code",
   "execution_count": 5,
   "id": "574784fb",
   "metadata": {},
   "outputs": [
    {
     "name": "stderr",
     "output_type": "stream",
     "text": [
      "Filtering Samples: 100%|██████████| 9/9 [00:00<00:00, 2525.34it/s]\n",
      "Scanning Volumes for Patch Counts: 100%|██████████| 9/9 [00:00<00:00, 16355.60it/s]\n"
     ]
    }
   ],
   "source": [
    "ds = RealESRGANCustomCTDataset({**opt, **opt[\"datasets\"][\"train\"]})"
   ]
  },
  {
   "cell_type": "code",
   "execution_count": 6,
   "id": "01711a81",
   "metadata": {},
   "outputs": [
    {
     "name": "stdout",
     "output_type": "stream",
     "text": [
      "192\n",
      "192\n",
      "237\n",
      "473\n",
      "210\n",
      "303\n",
      "303\n",
      "290\n",
      "290\n",
      "2490\n"
     ]
    }
   ],
   "source": [
    "for i in range(len(ds.base_dataset)):\n",
    "    print(ds.base_dataset.get_volume_slice_count(i))\n",
    "print(sum([ds.base_dataset.get_volume_slice_count(i) for i in range(len(ds.base_dataset))]))"
   ]
  },
  {
   "cell_type": "code",
   "execution_count": 7,
   "id": "74807c46",
   "metadata": {},
   "outputs": [
    {
     "data": {
      "text/plain": [
       "(2490, 2490, 9, (512, 512, -1))"
      ]
     },
     "execution_count": 7,
     "metadata": {},
     "output_type": "execute_result"
    }
   ],
   "source": [
    "ds.total_patches, ds.base_dataset.num_slices_total, len(ds.base_dataset), ds.base_dataset.target_shape"
   ]
  },
  {
   "cell_type": "code",
   "execution_count": 8,
   "id": "2ad17392",
   "metadata": {},
   "outputs": [
    {
     "data": {
      "text/plain": [
       "2490"
      ]
     },
     "execution_count": 8,
     "metadata": {},
     "output_type": "execute_result"
    }
   ],
   "source": [
    "len(ds)"
   ]
  },
  {
   "cell_type": "markdown",
   "id": "6a45e6fd",
   "metadata": {},
   "source": [
    "2489: (Vol 8, Slice 289)  \n",
    "2480: (Vol 8, Slice 280)  \n",
    "2470: (Vol 8, Slice 270)  \n",
    "2460: (Vol 8, Slice 260)  \n",
    "2450: (Vol 8, Slice 250)   \n",
    "2440: (Vol 8, Slice 240) \n",
    "2439: (Vol 8, Slice 239)  \n",
    "2437: (Vol 8, Slice 237)  \n",
    "2436: (Vol 8, Slice 236)  \n",
    "2435: (Vol 8, Slice 235) ok  \n",
    "2430: (Vol 8, Slice 230) ok  \n"
   ]
  },
  {
   "cell_type": "code",
   "execution_count": 9,
   "id": "a955ee52",
   "metadata": {},
   "outputs": [
    {
     "data": {
      "text/plain": [
       "PosixPath('/home/promit/Promit/text_guided_3d_generation/CT_RATE/dataset/train/train_10000_a/train_10000_a_2.nii.gz')"
      ]
     },
     "execution_count": 9,
     "metadata": {},
     "output_type": "execute_result"
    }
   ],
   "source": [
    "ds.base_dataset.samples[8]"
   ]
  },
  {
   "cell_type": "code",
   "execution_count": 10,
   "id": "df5e04ea",
   "metadata": {},
   "outputs": [
    {
     "data": {
      "text/plain": [
       "(512, 512, 290)"
      ]
     },
     "execution_count": 10,
     "metadata": {},
     "output_type": "execute_result"
    }
   ],
   "source": [
    "vol = nib.load(ds.base_dataset.samples[8])\n",
    "vol_data = vol.get_fdata()\n",
    "vol_data.shape"
   ]
  },
  {
   "cell_type": "code",
   "execution_count": 11,
   "id": "a6a95a1a",
   "metadata": {},
   "outputs": [],
   "source": [
    "_ = ds[2435]"
   ]
  },
  {
   "cell_type": "code",
   "execution_count": 12,
   "id": "80999564",
   "metadata": {},
   "outputs": [],
   "source": [
    "_ = ds[2436]"
   ]
  },
  {
   "cell_type": "code",
   "execution_count": null,
   "id": "e0a206bc",
   "metadata": {},
   "outputs": [],
   "source": []
  }
 ],
 "metadata": {
  "kernelspec": {
   "display_name": "venv",
   "language": "python",
   "name": "python3"
  },
  "language_info": {
   "codemirror_mode": {
    "name": "ipython",
    "version": 3
   },
   "file_extension": ".py",
   "mimetype": "text/x-python",
   "name": "python",
   "nbconvert_exporter": "python",
   "pygments_lexer": "ipython3",
   "version": "3.12.10"
  }
 },
 "nbformat": 4,
 "nbformat_minor": 5
}
